{
 "cells": [
  {
   "cell_type": "markdown",
   "id": "b5ec9d3e",
   "metadata": {},
   "source": [
    "### Task1:\n",
    "You need to code a program that prints numbers from 1 to 20 except multiple of 2 & 3.\n",
    "\n",
    "Hint: use \"modulo\" operator and \"and/or\" operators"
   ]
  },
  {
   "cell_type": "code",
   "execution_count": 1,
   "id": "a94f69b5",
   "metadata": {},
   "outputs": [
    {
     "name": "stdout",
     "output_type": "stream",
     "text": [
      "1\n",
      "5\n",
      "7\n",
      "11\n",
      "13\n",
      "17\n",
      "19\n"
     ]
    }
   ],
   "source": [
    "# Your code goes here\n",
    "for i in range(1,20):\n",
    "    if i%2 != 0 and i%3 !=0:\n",
    "        print(i)"
   ]
  },
  {
   "cell_type": "markdown",
   "id": "b123a205",
   "metadata": {},
   "source": [
    "### Task2:\n",
    "Write a program that keep on accepting number from the user until user enters Zero. Display the sum and average of all the numbers.\n",
    "\n",
    "Hint: Use while loop with flag. "
   ]
  },
  {
   "cell_type": "code",
   "execution_count": 1,
   "id": "29296c1c",
   "metadata": {},
   "outputs": [
    {
     "name": "stdout",
     "output_type": "stream",
     "text": [
      "Enter Number: 1\n",
      "Enter Number: 1\n",
      "Enter Number: 1\n",
      "Enter Number: 1\n",
      "Enter Number: 1\n",
      "Enter Number: 1\n",
      "Enter Number: 1\n",
      "Enter Number: 1\n",
      "Enter Number: 1\n",
      "Enter Number: 1\n",
      "Enter Number: 0\n",
      "10\n"
     ]
    }
   ],
   "source": [
    "# Your code goes here\n",
    "add = 0\n",
    "given = 1\n",
    "while given !=0:\n",
    "    given = int(input(\"Enter Number: \"))\n",
    "    add += given\n",
    "print(add)"
   ]
  },
  {
   "cell_type": "markdown",
   "id": "9ea5024e",
   "metadata": {},
   "source": [
    "### Task3:\n",
    "Accept 10 numbers from the user and display their average.\n",
    "\n",
    "Hint: Use loop for accepting numbers or use split to take input in one go"
   ]
  },
  {
   "cell_type": "code",
   "execution_count": 7,
   "id": "5bebbbe8",
   "metadata": {},
   "outputs": [
    {
     "name": "stdout",
     "output_type": "stream",
     "text": [
      "Enter Number of 10 digits: 1234567890\n",
      "45\n"
     ]
    }
   ],
   "source": [
    "# Your code goes here\n",
    "given = input(\"Enter Number of 10 digits: \")\n",
    "add = 0\n",
    "for i in range(len(given)):\n",
    "    add += int(given[i])\n",
    "print(add)"
   ]
  },
  {
   "cell_type": "markdown",
   "id": "e17466dd",
   "metadata": {},
   "source": [
    "### Task4:\n",
    "Write a program to display sum of odd numbers and even numbers that fall between 12 and /37(including both numbers)\n"
   ]
  },
  {
   "cell_type": "code",
   "execution_count": 9,
   "id": "d5715b5c",
   "metadata": {},
   "outputs": [
    {
     "name": "stdout",
     "output_type": "stream",
     "text": [
      "Even = [12, 14, 16, 18, 20, 22, 24, 26, 28, 30, 32, 34, 36]\n",
      "Odd = [13, 15, 17, 19, 21, 23, 25, 27, 29, 31, 33, 35]\n"
     ]
    }
   ],
   "source": [
    "# Your code goes here\n",
    "even = []\n",
    "odd = []\n",
    "for i in range(12,37):\n",
    "    if i%2 == 0:\n",
    "        even.append(i)\n",
    "    else:\n",
    "        odd.append(i)\n",
    "print(f\"Even = {even}\\nOdd = {odd}\")"
   ]
  },
  {
   "cell_type": "markdown",
   "id": "0f2ec9db",
   "metadata": {},
   "source": [
    "# Task5:\n",
    "Write a program to print table of a number accepted from user."
   ]
  },
  {
   "cell_type": "raw",
   "id": "e38971ef",
   "metadata": {},
   "source": [
    "Output:\n",
    "7 * 1 = 7\n",
    "7 * 2 = 14\n",
    "7 * 3 = 21\n",
    "7 * 4 = 28\n",
    "7 * 5 = 35\n",
    "7 * 6 = 42\n",
    "7 * 7 = 49\n",
    "7 * 8 = 56\n",
    "7 * 9 = 63\n",
    "7 * 10 = 70"
   ]
  },
  {
   "cell_type": "code",
   "execution_count": 79,
   "id": "3305bb3d",
   "metadata": {},
   "outputs": [
    {
     "name": "stdout",
     "output_type": "stream",
     "text": [
      "7 * 1 = 7\n",
      "7 * 2 = 14\n",
      "7 * 3 = 21\n",
      "7 * 4 = 28\n",
      "7 * 5 = 35\n",
      "7 * 6 = 42\n",
      "7 * 7 = 49\n",
      "7 * 8 = 56\n",
      "7 * 9 = 63\n",
      "7 * 10 = 70\n"
     ]
    }
   ],
   "source": [
    "# Your code goes here\n",
    "for i in range(1,11):\n",
    "    print(f\"7 * {i} = {7*i}\")"
   ]
  },
  {
   "cell_type": "markdown",
   "id": "fc08df86",
   "metadata": {},
   "source": [
    "### Task6:\n",
    "Write a program to display product of the digits of a number accepted from the user.\n",
    "\n",
    "If user inputs:123 Outputs 6\n",
    "\n",
    "If user inputs: 567 Outputs 210"
   ]
  },
  {
   "cell_type": "code",
   "execution_count": 8,
   "id": "e793d4c9",
   "metadata": {},
   "outputs": [
    {
     "name": "stdout",
     "output_type": "stream",
     "text": [
      "Enter Digits: 567\n",
      "210\n"
     ]
    }
   ],
   "source": [
    "# Your code goes here\n",
    "given = input(\"Enter Digits: \")\n",
    "result = 1\n",
    "for i in range(len(given)):\n",
    "    result *= int(given)%10\n",
    "    given = int(given)/10\n",
    "print(result)"
   ]
  },
  {
   "cell_type": "markdown",
   "id": "f041397e",
   "metadata": {},
   "source": [
    "### Task7: \n",
    "Write a program to print first 10 even numbers in reverse order."
   ]
  },
  {
   "cell_type": "code",
   "execution_count": 13,
   "id": "b639f15e",
   "metadata": {},
   "outputs": [
    {
     "name": "stdout",
     "output_type": "stream",
     "text": [
      "18\n",
      "16\n",
      "14\n",
      "12\n",
      "10\n",
      "8\n",
      "6\n",
      "4\n",
      "2\n",
      "0\n"
     ]
    }
   ],
   "source": [
    "# Your code goes here\n",
    "for i in range(18,-1,-2):\n",
    "    print(i)"
   ]
  },
  {
   "cell_type": "markdown",
   "id": "37b679bb",
   "metadata": {},
   "source": [
    "### Task8:\n",
    "Write a program to find the sum of the digits of a number accepted from user\n",
    "\n",
    "If user inputs:123 Outputs 6\n",
    "\n",
    "If user inputs: 567 Outputs 18"
   ]
  },
  {
   "cell_type": "code",
   "execution_count": 11,
   "id": "adef66ce",
   "metadata": {},
   "outputs": [
    {
     "name": "stdout",
     "output_type": "stream",
     "text": [
      "Enter Digits: 1234\n",
      "10\n"
     ]
    }
   ],
   "source": [
    "# Your code goes here\n",
    "given = input(\"Enter Digits: \")\n",
    "result = 0\n",
    "for i in range(len(given)):\n",
    "    result += int(given)%10\n",
    "    given = int(given)/10\n",
    "print(result)"
   ]
  },
  {
   "cell_type": "markdown",
   "id": "8b87f377",
   "metadata": {},
   "source": [
    "### Task9:\n",
    "Write a program that accepts a sentence and calculate the number of letters and digits.\n",
    "\n",
    "Suppose the following input is supplied to the program:\n",
    "\n",
    "hello world! 123\n",
    "\n",
    "Then, the output should be:\n",
    "\n",
    "LETTERS 10\n",
    "\n",
    "DIGITS 3\n"
   ]
  },
  {
   "cell_type": "code",
   "execution_count": 17,
   "id": "73835ab3",
   "metadata": {},
   "outputs": [
    {
     "name": "stdout",
     "output_type": "stream",
     "text": [
      "Enter Sentence: hello world! 123\n",
      "LETTERS: 10\n",
      "Digits: 3\n"
     ]
    }
   ],
   "source": [
    "# Your code goes here\n",
    "given = input(\"Enter Sentence: \")\n",
    "num = letter = 0\n",
    "for i in given:\n",
    "    i = ord(i)\n",
    "    if (i >= 48 and i <= 57):\n",
    "        num += 1\n",
    "    if (i >= 65 and i <= 90) or (i >= 97 and i <= 122) :\n",
    "        letter += 1\n",
    "print(f\"LETTERS: {letter}\\nDigits: {num}\")"
   ]
  },
  {
   "cell_type": "markdown",
   "id": "a25b412b",
   "metadata": {},
   "source": [
    "### Task10: \n",
    "You need to trace and make a list of all such numbers from1000 to 3000 in which all the digits are even numbers."
   ]
  },
  {
   "cell_type": "code",
   "execution_count": 32,
   "id": "a3c27a5e",
   "metadata": {},
   "outputs": [
    {
     "name": "stdout",
     "output_type": "stream",
     "text": [
      "[2000, 2002, 2004, 2006, 2008, 2010, 2012, 2014, 2016, 2018, 2020, 2022, 2024, 2026, 2028, 2030, 2032, 2034, 2036, 2038, 2040, 2042, 2044, 2046, 2048, 2050, 2052, 2054, 2056, 2058, 2060, 2062, 2064, 2066, 2068, 2070, 2072, 2074, 2076, 2078, 2080, 2082, 2084, 2086, 2088, 2090, 2092, 2094, 2096, 2098, 2200, 2202, 2204, 2206, 2208, 2210, 2212, 2214, 2216, 2218, 2220, 2222, 2224, 2226, 2228, 2230, 2232, 2234, 2236, 2238, 2240, 2242, 2244, 2246, 2248, 2250, 2252, 2254, 2256, 2258, 2260, 2262, 2264, 2266, 2268, 2270, 2272, 2274, 2276, 2278, 2280, 2282, 2284, 2286, 2288, 2290, 2292, 2294, 2296, 2298, 2400, 2402, 2404, 2406, 2408, 2410, 2412, 2414, 2416, 2418, 2420, 2422, 2424, 2426, 2428, 2430, 2432, 2434, 2436, 2438, 2440, 2442, 2444, 2446, 2448, 2450, 2452, 2454, 2456, 2458, 2460, 2462, 2464, 2466, 2468, 2470, 2472, 2474, 2476, 2478, 2480, 2482, 2484, 2486, 2488, 2490, 2492, 2494, 2496, 2498, 2600, 2602, 2604, 2606, 2608, 2610, 2612, 2614, 2616, 2618, 2620, 2622, 2624, 2626, 2628, 2630, 2632, 2634, 2636, 2638, 2640, 2642, 2644, 2646, 2648, 2650, 2652, 2654, 2656, 2658, 2660, 2662, 2664, 2666, 2668, 2670, 2672, 2674, 2676, 2678, 2680, 2682, 2684, 2686, 2688, 2690, 2692, 2694, 2696, 2698, 2800, 2802, 2804, 2806, 2808, 2810, 2812, 2814, 2816, 2818, 2820, 2822, 2824, 2826, 2828, 2830, 2832, 2834, 2836, 2838, 2840, 2842, 2844, 2846, 2848, 2850, 2852, 2854, 2856, 2858, 2860, 2862, 2864, 2866, 2868, 2870, 2872, 2874, 2876, 2878, 2880, 2882, 2884, 2886, 2888, 2890, 2892, 2894, 2896, 2898]\n"
     ]
    }
   ],
   "source": [
    "# Your code goes here\n",
    "result = []\n",
    "for i in range(1000, 3000):\n",
    "    j = [int(j) for j in str(i)]\n",
    "    if int(j[0] % 2) == 0 and int(j[1] % 2) == 0 and int(j[1] % 2) == 0 and int(j[3] % 2) == 0:\n",
    "        result.append(i)\n",
    "print(result)"
   ]
  },
  {
   "cell_type": "markdown",
   "id": "ddc08744",
   "metadata": {},
   "source": [
    "### Task11: \n",
    "You need to write a program that counts the number of vowels in a given sentence as input from console. \n",
    "\n",
    "Suppose the following input is supplied to the program:\n",
    "\n",
    "Hello world! Practice makes perfect\n",
    "\n",
    "Then, the output should be:\n",
    "\n",
    "a appeared 2 times\n",
    "\n",
    "e appeared 5 times\n",
    "\n",
    "i appeared  1 time\n",
    "\n",
    "o appeared 2 times\n",
    "\n",
    "u appeared 0 time\n"
   ]
  },
  {
   "cell_type": "code",
   "execution_count": 17,
   "id": "0ed960fd",
   "metadata": {},
   "outputs": [
    {
     "name": "stdout",
     "output_type": "stream",
     "text": [
      "Enter Your Data: Data\n",
      "a appeared 2 times\n",
      "e appeared 0 times\n",
      "i appeared 0 times\n",
      "o appeared 0 times\n",
      "u appeared 0 times\n",
      "\n"
     ]
    }
   ],
   "source": [
    "# Your code goes here\n",
    "given = input(\"Enter Your Data: \")\n",
    "a = e = i = o = u = 0\n",
    "for j in range(len(given)):\n",
    "    if given[j] == 'a':\n",
    "        a+=1\n",
    "    if given[j] == 'e':\n",
    "        e+=1\n",
    "    if given[j] == 'i':\n",
    "        i+=1\n",
    "    if given[j] == 'o':\n",
    "        o+=1\n",
    "    if given[j] == 'u':\n",
    "        u+=1\n",
    "print(f\"a appeared {a} times\\ne appeared {e} times\\ni appeared {i} times\\no appeared {o} times\\nu appeared {u} times\\n\")"
   ]
  },
  {
   "cell_type": "markdown",
   "id": "45a0c3c4",
   "metadata": {},
   "source": [
    "### Task12:\n",
    "You need to write a program that takes sequence of lines as input and prints the lines after making all characters in the sentence capitalized.\n",
    "\n",
    "Suppose the following input is supplied to the program:\n",
    "\n",
    "Hello world\n",
    "\n",
    "Practice makes perfect\n",
    "\n",
    "Then, the output should be:\n",
    "\n",
    "HELLO WORLD\n",
    "PRACTICE MAKES PERFECT"
   ]
  },
  {
   "cell_type": "code",
   "execution_count": 41,
   "id": "029fc3d6",
   "metadata": {},
   "outputs": [
    {
     "name": "stdout",
     "output_type": "stream",
     "text": [
      "Enter your data: Data\n",
      "DATA\n"
     ]
    }
   ],
   "source": [
    "# Your code goes here\n",
    "new = \"\"\n",
    "for i in input(\"Enter your data: \"):\n",
    "    j = ord(i)\n",
    "    if j >= 65 and j <= 90:\n",
    "        new = new + chr(j)\n",
    "    elif j >= 97 and j <= 122:\n",
    "        new = new + chr(j-32)\n",
    "print(new)"
   ]
  },
  {
   "cell_type": "markdown",
   "id": "a374068f",
   "metadata": {},
   "source": [
    "### Task13:\n",
    "You need to write a code that takes a comma separated sequence of words as input and prints the words in a comma-separated sequence after sorting them alphabetically.\n",
    "\n",
    "Suppose the following input is supplied to the program:\n",
    "\n",
    "without,hello,bag,world\n",
    "\n",
    "Then, the output should be:\n",
    "\n",
    "bag,hello,without,world"
   ]
  },
  {
   "cell_type": "code",
   "execution_count": 60,
   "id": "488509b9",
   "metadata": {},
   "outputs": [
    {
     "name": "stdout",
     "output_type": "stream",
     "text": [
      "Enter Comma-Separated Words: without,hello,bag,world\n",
      "bag,hello,without,world\n"
     ]
    }
   ],
   "source": [
    "# Your code goes here\n",
    "given = input(\"Enter Comma-Separated Words: \").split(\",\")\n",
    "given.sort()\n",
    "given = \",\".join(given)\n",
    "print(given)\n"
   ]
  },
  {
   "cell_type": "markdown",
   "id": "0d9422e7",
   "metadata": {},
   "source": [
    "### Task14:\n",
    "You need code a program that calculates and prints the value according to the given formula:\n",
    "P = Square root of [(2 * A * B)/C]\n",
    "\n",
    "Following are the fixed values of A and B:\n",
    "\n",
    "A is 50. B is 30.\n",
    "\n",
    "The values of the literal C should be taken as console input to your program in a comma-separated sequence.\n",
    "\n",
    "Example:\n",
    "Let us assume the following comma separated input sequence is given to the program:\n",
    "100,150,180\n",
    "\n",
    "The output of the program should be:\n",
    "18,22,24"
   ]
  },
  {
   "cell_type": "code",
   "execution_count": 62,
   "id": "6e586dfe",
   "metadata": {},
   "outputs": [
    {
     "name": "stdout",
     "output_type": "stream",
     "text": [
      "Enter Comma-Separated Words: 1\n",
      "Enter Comma-Separated Words: 1\n",
      "Enter Comma-Separated Words: 2\n",
      "1.0\n"
     ]
    }
   ],
   "source": [
    "# Your code goes here\n",
    "import math\n",
    "A = int(input(\"Enter Comma-Separated Words: \"))\n",
    "B = int(input(\"Enter Comma-Separated Words: \"))\n",
    "C = int(input(\"Enter Comma-Separated Words: \"))\n",
    "P = math.sqrt((2 * A * B) / C)\n",
    "print(P)"
   ]
  },
  {
   "cell_type": "markdown",
   "id": "87f9f13d",
   "metadata": {},
   "source": [
    "### Task15:\n",
    "You need to write a code in python that finds all such numbers which are divisible by 7 but are not a multiple of 5,\n",
    "between 2000 and 3200 (both included).\n",
    "\n",
    "Print the obtained numbers in a comma-separated sequence on a single line\n",
    "\n",
    "Hint: modulo operator, and/or operator, for loop /while loop"
   ]
  },
  {
   "cell_type": "code",
   "execution_count": 64,
   "id": "ba3d9d96",
   "metadata": {},
   "outputs": [
    {
     "name": "stdout",
     "output_type": "stream",
     "text": [
      "2002,2009,2016,2023,2037,2044,2051,2058,2072,2079,2086,2093,2107,2114,2121,2128,2142,2149,2156,2163,2177,2184,2191,2198,2212,2219,2226,2233,2247,2254,2261,2268,2282,2289,2296,2303,2317,2324,2331,2338,2352,2359,2366,2373,2387,2394,2401,2408,2422,2429,2436,2443,2457,2464,2471,2478,2492,2499,2506,2513,2527,2534,2541,2548,2562,2569,2576,2583,2597,2604,2611,2618,2632,2639,2646,2653,2667,2674,2681,2688,2702,2709,2716,2723,2737,2744,2751,2758,2772,2779,2786,2793,2807,2814,2821,2828,2842,2849,2856,2863,2877,2884,2891,2898,2912,2919,2926,2933,2947,2954,2961,2968,2982,2989,2996,3003,3017,3024,3031,3038,3052,3059,3066,3073,3087,3094,3101,3108,3122,3129,3136,3143,3157,3164,3171,3178,3192,3199,"
     ]
    }
   ],
   "source": [
    "# Your code goes here\n",
    "for  i in range(2000,3201):\n",
    "    if i % 7 == 0 and i % 5 != 0:\n",
    "        print(i,end=\",\")"
   ]
  },
  {
   "cell_type": "markdown",
   "id": "f75c81d1",
   "metadata": {},
   "source": [
    "### Task16:\n",
    "With a given integral number n, write a program to generate a dictionary that contains (i, i*i) such that is an integral number between 1 and n (both included). and then the program should print the dictionary.\n",
    "\n",
    "Suppose the following input is supplied to the program:\n",
    "\n",
    "8\n",
    "\n",
    "Then, the output should be:\n",
    "\n",
    "{1: 1, 2: 4, 3: 9, 4: 16, 5: 25, 6: 36, 7: 49, 8: 64}"
   ]
  },
  {
   "cell_type": "code",
   "execution_count": 67,
   "id": "451bacfc",
   "metadata": {},
   "outputs": [
    {
     "name": "stdout",
     "output_type": "stream",
     "text": [
      "Enter a Number4\n",
      "{1: 1, 2: 4, 3: 9, 4: 16}\n"
     ]
    }
   ],
   "source": [
    "# Your code goes here\n",
    "given = int(input(\"Enter a Number\"))\n",
    "result = {}\n",
    "for i in range(given):\n",
    "    result[i+1] = (i+1) * (i+1)\n",
    "print(result)"
   ]
  },
  {
   "cell_type": "markdown",
   "id": "bd2b39a0",
   "metadata": {},
   "source": [
    "### Task17:\n",
    "You need to write a code which accepts a sequence of comma separated 4 digit binary numbers as its input and then check whether they are divisible by 5 or not. \n",
    "\n",
    "The numbers that are divisible by 5 are to be printed in a comma separated sequence.\n",
    "\n",
    "Example:\n",
    "\n",
    "0100,0011,1010,1001\n",
    "\n",
    "Then the output should be:\n",
    "1010\n",
    "\n",
    "Reference: \n",
    "1) https://www.datacamp.com/.../python-data-type-conversion\n",
    "\n",
    "2) https://stackoverflow.com/questions/21765779/converting-binary-to-decimal-integer-output?fbclid=IwAR3DD_oiq5pn99IjyxSJgojvB5W6M4JqQtv4EUl_IF_DtmuRXlP-DswcKAA"
   ]
  },
  {
   "cell_type": "code",
   "execution_count": 74,
   "id": "d88c2527",
   "metadata": {},
   "outputs": [
    {
     "name": "stdout",
     "output_type": "stream",
     "text": [
      "Enter Comma-Separated Words: 0100,0011,1010,1001\n",
      "1010,"
     ]
    }
   ],
   "source": [
    "# Your code goes here\n",
    "given = input(\"Enter Comma-Separated Words: \").split(\",\")\n",
    "for i in range(len(given)):\n",
    "    if int(given[i],2)%5 == 0:\n",
    "        print(given[i],end = \",\")"
   ]
  }
 ],
 "metadata": {
  "kernelspec": {
   "display_name": "Python 3 (ipykernel)",
   "language": "python",
   "name": "python3"
  },
  "language_info": {
   "codemirror_mode": {
    "name": "ipython",
    "version": 3
   },
   "file_extension": ".py",
   "mimetype": "text/x-python",
   "name": "python",
   "nbconvert_exporter": "python",
   "pygments_lexer": "ipython3",
   "version": "3.9.7"
  }
 },
 "nbformat": 4,
 "nbformat_minor": 5
}
