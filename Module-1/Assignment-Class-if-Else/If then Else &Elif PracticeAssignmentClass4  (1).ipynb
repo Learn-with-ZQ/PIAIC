{
 "cells": [
  {
   "cell_type": "raw",
   "metadata": {
    "id": "8rksu2_jMVjQ"
   },
   "source": [
    "1) A company decided to give bonus of 5% to employee if his/her year of service is more than 5 years.\n",
    "Ask user for their salary and year of service and print the net bonus amount."
   ]
  },
  {
   "cell_type": "code",
   "execution_count": 3,
   "metadata": {
    "id": "_GRPHPiLMVjX"
   },
   "outputs": [
    {
     "name": "stdout",
     "output_type": "stream",
     "text": [
      "Enter Salary: 1000\n",
      "Enter Service: 5\n",
      "1050.0\n"
     ]
    }
   ],
   "source": [
    "#Type your code here\n",
    "salary = float(input(\"Enter Salary: \"))\n",
    "if int(input(\"Enter Service: \")) >= 5:\n",
    "    salary += salary*.05\n",
    "print(salary)"
   ]
  },
  {
   "cell_type": "markdown",
   "metadata": {
    "id": "iXt5RVcjMVja"
   },
   "source": [
    "\n",
    "2) Write a program to check whether a person is eligible for voting or not. (accept age from user)"
   ]
  },
  {
   "cell_type": "code",
   "execution_count": 5,
   "metadata": {
    "id": "jXVCvia3MVjh"
   },
   "outputs": [
    {
     "name": "stdout",
     "output_type": "stream",
     "text": [
      "Enter Service: 18\n",
      "You are eligible for Voting\n"
     ]
    }
   ],
   "source": [
    "#Type your code here\n",
    "if int(input(\"Enter Service: \")) >= 18:\n",
    "    print(\"You are eligible for Voting\")\n",
    "else:\n",
    "    print(\"You are not eligible for Voting\")"
   ]
  },
  {
   "cell_type": "markdown",
   "metadata": {
    "id": "IkNM7QpCMVjj"
   },
   "source": [
    "\n",
    "3) Write a program to check whether a number entered by user is even or odd."
   ]
  },
  {
   "cell_type": "code",
   "execution_count": 8,
   "metadata": {
    "id": "-GxviwByMVjl"
   },
   "outputs": [
    {
     "name": "stdout",
     "output_type": "stream",
     "text": [
      "Enter Service: 15\n",
      "Given Number is Odd\n"
     ]
    }
   ],
   "source": [
    "#Type your code here\n",
    "if int(input(\"Enter Service: \"))%2 == 0:\n",
    "    print(\"Given Number is Even\")\n",
    "else:\n",
    "    print(\"Given Number is Odd\")"
   ]
  },
  {
   "cell_type": "markdown",
   "metadata": {
    "id": "_jEHjkfdMVjm"
   },
   "source": [
    "4) Write a program to check whether a number is divisible by 7 or not.\n",
    "Show Answer"
   ]
  },
  {
   "cell_type": "code",
   "execution_count": 10,
   "metadata": {
    "id": "IRNXyG1GMVjo"
   },
   "outputs": [
    {
     "name": "stdout",
     "output_type": "stream",
     "text": [
      "Enter Service: 15\n",
      "Given Number is not divisible by 7\n"
     ]
    }
   ],
   "source": [
    "#Type your code here\n",
    "if int(input(\"Enter Service: \"))%7 == 0:\n",
    "    print(\"Given Number is divisible by 7\")\n",
    "else:\n",
    "    print(\"Given Number is not divisible by 7\")"
   ]
  },
  {
   "cell_type": "raw",
   "metadata": {
    "id": "XxfyVe4kMVjp"
   },
   "source": [
    "5) Write a program to display \n",
    "\"Hello\" if a number entered by user is a multiple of five , otherwise print \"Bye\"."
   ]
  },
  {
   "cell_type": "code",
   "execution_count": 12,
   "metadata": {
    "id": "Ixnz4R4TMVjr"
   },
   "outputs": [
    {
     "name": "stdout",
     "output_type": "stream",
     "text": [
      "Enter Service: 10\n",
      "Hello\n"
     ]
    }
   ],
   "source": [
    "#Type your code here\n",
    "if int(input(\"Enter Service: \"))%5 == 0:\n",
    "    print(\"Hello\")\n",
    "else:\n",
    "    print(\"Bye\")"
   ]
  },
  {
   "cell_type": "raw",
   "metadata": {
    "id": "qfzRUUwOMVjs"
   },
   "source": [
    "6) Write a program to calculate the electricity bill (accept number of unit from user) according to the following criteria :\n",
    "     Unit                                                     Price  \n",
    "uptp 100 units                                             no charge\n",
    "Next 200 units                                              Rs 5 per unit\n",
    "After 200 units                                             Rs 10 per unit\n",
    "(For example if input unit is 350 than total bill amount is Rs.2000\n",
    "(For example if input unit is 97 than total bill amount is Rs.0\n",
    "(For example if input unit is 150 than total bill amount is Rs.250"
   ]
  },
  {
   "cell_type": "code",
   "execution_count": null,
   "metadata": {
    "id": "1BY1oAIpMVju"
   },
   "outputs": [],
   "source": [
    "#Type your code here\n",
    "if"
   ]
  },
  {
   "cell_type": "raw",
   "metadata": {
    "id": "msAIDMRDMVjv"
   },
   "source": [
    "7) Write a program to display the last digit of a number.\n"
   ]
  },
  {
   "cell_type": "code",
   "execution_count": 13,
   "metadata": {
    "id": "VQwLuGzbMVjv"
   },
   "outputs": [
    {
     "name": "stdout",
     "output_type": "stream",
     "text": [
      "Enter Number: 12\n",
      "2\n"
     ]
    }
   ],
   "source": [
    "#Type your code here\n",
    "print(int(input(\"Enter Number: \"))%10)"
   ]
  },
  {
   "cell_type": "raw",
   "metadata": {
    "id": "UeLHzVZ_MVjw"
   },
   "source": [
    "\n",
    "Q8. Write a program to check whether the last digit of a number( entered by user ) is \n",
    "divisible by 3 or not."
   ]
  },
  {
   "cell_type": "code",
   "execution_count": 15,
   "metadata": {
    "id": "KiQ5wnc6MVjx"
   },
   "outputs": [
    {
     "name": "stdout",
     "output_type": "stream",
     "text": [
      "Enter Number: 16\n",
      "The Last Number is divisible by 3\n"
     ]
    }
   ],
   "source": [
    "#Type your code here\n",
    "if (int(input(\"Enter Number: \"))%10)%3 == 0:\n",
    "    print(\"The Last Number is divisible by 3\")\n",
    "else:\n",
    "    print(\"The Last Number is not divisible by 3\")"
   ]
  },
  {
   "cell_type": "raw",
   "metadata": {
    "id": "CR4sMmRgMVjy"
   },
   "source": [
    "9) Take values of length and breadth of a rectangle from user and check if it is square or not."
   ]
  },
  {
   "cell_type": "code",
   "execution_count": 52,
   "metadata": {
    "id": "Oj1MT5fCMVjy"
   },
   "outputs": [
    {
     "name": "stdout",
     "output_type": "stream",
     "text": [
      "Enter Length: 4\n",
      "Enter Breadth: 3\n",
      "The Rectangle is not Square\n"
     ]
    }
   ],
   "source": [
    "#Type your code here \n",
    "if (int(input(\"Enter Length: \"))) == (int(input(\"Enter Breadth: \"))):\n",
    "    print(\"The Rectangle is Square\")\n",
    "else:\n",
    "    print(\"The Rectangle is not Square\")"
   ]
  },
  {
   "cell_type": "raw",
   "metadata": {
    "id": "B2e5VYbiMVjz"
   },
   "source": [
    "10) Take two int values from user and print greatest among them."
   ]
  },
  {
   "cell_type": "code",
   "execution_count": 20,
   "metadata": {
    "id": "LyYYL78HMVj0"
   },
   "outputs": [
    {
     "name": "stdout",
     "output_type": "stream",
     "text": [
      "Enter Length: 3\n",
      "Enter Breadth: 3\n",
      "Value 2 is greater\n"
     ]
    }
   ],
   "source": [
    "# Type your code here\n",
    "if (int(input(\"Enter Length: \"))) > (int(input(\"Enter Breadth: \"))):\n",
    "    print(\"Value 1 is greater\")\n",
    "else:\n",
    "    print(\"Value 2 is greater\")"
   ]
  },
  {
   "cell_type": "raw",
   "metadata": {
    "id": "R9gMEjdQMVj1"
   },
   "source": [
    "11) A shop will give discount of 10% if the cost of purchased quantity is more than 1000.\n",
    "Ask user for quantity\n",
    "Suppose, one unit will cost 100.\n",
    "Judge and print total cost for user."
   ]
  },
  {
   "cell_type": "code",
   "execution_count": 21,
   "metadata": {
    "id": "hjvEnOzxMVj2"
   },
   "outputs": [
    {
     "name": "stdout",
     "output_type": "stream",
     "text": [
      "Enter Unit Price: 100\n",
      "Enter Number of quantity: 100\n",
      "9000.0\n"
     ]
    }
   ],
   "source": [
    "#Type your code here\n",
    "total = int(input(\"Enter Unit Price: \")) * int(input(\"Enter Number of quantity: \"))\n",
    "if total > 1000:\n",
    "    total -= total * .1\n",
    "print(total)"
   ]
  },
  {
   "cell_type": "raw",
   "metadata": {
    "id": "yqYL7FZeMVj3"
   },
   "source": [
    "12) A school has following rules for grading system:\n",
    "\n",
    "a. Below 25 - F\n",
    "\n",
    "b. 25 to 45 - E\n",
    "\n",
    "c. 45 to 50 - D\n",
    "\n",
    "d. 50 to 60 - C\n",
    "\n",
    "e. 60 to 80 - B\n",
    "\n",
    "f. Above 80 - A\n",
    "\n",
    "Ask user to enter marks and print the corresponding grade."
   ]
  },
  {
   "cell_type": "code",
   "execution_count": 41,
   "metadata": {
    "id": "he_r-bpOMVj4"
   },
   "outputs": [
    {
     "name": "stdout",
     "output_type": "stream",
     "text": [
      "Enter number of subject3\n",
      "Enter Marks:1\n",
      "Enter Marks:0\n",
      "Enter Marks:0\n",
      "Your grade is F\n"
     ]
    }
   ],
   "source": [
    "#Type your code here\n",
    "subject = int(input(\"Enter number of subject: \"))\n",
    "total = 0\n",
    "for i in range(subject):\n",
    "    total += int(input(\"Enter Marks:\"))\n",
    "total /= subject\n",
    "if total < 25:\n",
    "    total = \"F\"\n",
    "elif total < 45 and total >= 25:\n",
    "    total = \"E\"\n",
    "elif total < 50 and total >= 45:\n",
    "    total = \"D\"\n",
    "elif total < 60 and total >= 50:\n",
    "    total = \"C\"\n",
    "elif total < 80 and total >= 60:\n",
    "    total = \"B\"\n",
    "elif total > 80:\n",
    "    total = \"A\"\n",
    "print(\"Your grade is\",total)"
   ]
  },
  {
   "cell_type": "raw",
   "metadata": {
    "id": "IUJjt9NbMVj4"
   },
   "source": [
    "13) Take input of age of 3 people by user and determine oldest and youngest among them."
   ]
  },
  {
   "cell_type": "code",
   "execution_count": 58,
   "metadata": {
    "id": "vlre5Ck0MVj4"
   },
   "outputs": [
    {
     "name": "stdout",
     "output_type": "stream",
     "text": [
      "Enter Name of Person: b\n",
      "Enter Age of Person: 15\n",
      "Enter Name of Person: c\n",
      "Enter Age of Person: 16\n",
      "Enter Name of Person: a\n",
      "Enter Age of Person: 10\n",
      "a is the most Youngest person and c is the most Oldest person.\n"
     ]
    }
   ],
   "source": [
    "#Type your code here\n",
    "from collections import OrderedDict\n",
    "age = []\n",
    "name = []\n",
    "for i in range(3):\n",
    "    name.append(input(\"Enter Name of Person: \"))\n",
    "    age.append(int(input(\"Enter Age of Person: \")))\n",
    "    j = i-1\n",
    "    key = [age[i], name[i]]\n",
    "    while j >= 0 and key[0] < age[j] :\n",
    "        age[j + 1] = age[j]\n",
    "        name[j + 1] = name[j]\n",
    "        j -= 1\n",
    "    age[j + 1] = key[0]\n",
    "    name[j + 1] = key[1]\n",
    "print(f\"{name[0]} is the most Youngest person and {name[len(name)-1]} is the most Oldest person.\")"
   ]
  },
  {
   "cell_type": "raw",
   "metadata": {
    "id": "Zc9ovDhsMVj5"
   },
   "source": [
    "14)A student will not be allowed to sit in exam if his/her attendence is less than 75%.\n",
    "\n",
    "Take following input from user\n",
    "\n",
    "Number of classes held\n",
    "\n",
    "Number of classes attended.\n",
    "\n",
    "And print\n",
    "\n",
    "percentage of class attended\n",
    "\n",
    "Is student is allowed to sit in exam or not.\n"
   ]
  },
  {
   "cell_type": "code",
   "execution_count": 62,
   "metadata": {
    "id": "rseYum2_MVj6"
   },
   "outputs": [
    {
     "name": "stdout",
     "output_type": "stream",
     "text": [
      "Enter Number of classes attend25\n",
      "Enter Number of classes held30\n",
      "You are allowed to give exam\n"
     ]
    }
   ],
   "source": [
    "#Type your code here\n",
    "attendance = (int(input(\"Enter Number of classes attend: \")) * 100) / (int(input(\"Enter Number of classes held: \")))\n",
    "if attendance < 75:\n",
    "    print(\"You are not allowed to give exam\")\n",
    "else:\n",
    "    print(\"You are allowed to give exam\")"
   ]
  },
  {
   "cell_type": "raw",
   "metadata": {
    "id": "58UPPHAOMVj6"
   },
   "source": [
    "15) Modify the above question to allow student to sit if he/she has medical cause. Ask user if he/she has medical cause or not ( 'Y' or 'N' ) and print accordingly."
   ]
  },
  {
   "cell_type": "code",
   "execution_count": 66,
   "metadata": {
    "id": "lDi-xLzTMVj7"
   },
   "outputs": [
    {
     "name": "stdout",
     "output_type": "stream",
     "text": [
      "Enter Number of classes attend: 20\n",
      "Enter Number of classes held: 40\n",
      "Don you have any medical case(only 'y' and 'n'): y\n",
      "You are allowed to give exam\n"
     ]
    }
   ],
   "source": [
    "#Type your code here\n",
    "attendance = (int(input(\"Enter Number of classes attend: \")) * 100) / (int(input(\"Enter Number of classes held: \")))\n",
    "if attendance >= 75 or input(\"Don you have any medical case(only 'y' and 'n'): \").lower() == 'y':\n",
    "    print(\"You are allowed to give exam\")\n",
    "else:\n",
    "    print(\"You are not allowed to give exam\")"
   ]
  },
  {
   "cell_type": "raw",
   "metadata": {
    "id": "kJtSy1EoMVj7"
   },
   "source": [
    " 16) Write a program to check if a year is leap year or not.\n",
    "\n",
    "If a year is divisible by 4 then it is leap year but if the year is century year like 2000, 1900, 2100 then it must be divisible by 400."
   ]
  },
  {
   "cell_type": "code",
   "execution_count": 71,
   "metadata": {
    "id": "QUL_YUX3MVj7"
   },
   "outputs": [
    {
     "name": "stdout",
     "output_type": "stream",
     "text": [
      "Enter Year:2104\n",
      "year is leap\n"
     ]
    }
   ],
   "source": [
    "#Type your code here\n",
    "year = int(input(\"Enter Year:\"))\n",
    "if year%100 == 0 or year % 4 == 0:\n",
    "    print(\"year is leap\")\n",
    "else:\n",
    "    print(\"year is not leap\")"
   ]
  },
  {
   "cell_type": "raw",
   "metadata": {
    "id": "CCNg4yDDMVj8"
   },
   "source": [
    "17) Ask user to enter age, gender ( M or F ), marital status ( Y or N ) and then using following rules print their place of service.\n",
    "\n",
    "if employee is female, then she will work only in urban areas.\n",
    "\n",
    "if employee is a male and age is in between 20 to 40 then he may work in anywhere\n",
    "\n",
    "if employee is male and age is in between 40 t0 60 then he will work in urban areas only.\n",
    "\n",
    "And any other input of age should print \"ERROR\""
   ]
  },
  {
   "cell_type": "code",
   "execution_count": 72,
   "metadata": {},
   "outputs": [
    {
     "name": "stdout",
     "output_type": "stream",
     "text": [
      "Enter Age: 25\n",
      "Enter Gender: M\n",
      "Enter Martial Status: n\n",
      "You can work in any area\n"
     ]
    }
   ],
   "source": [
    "age = int(input(\"Enter Age: \"))\n",
    "gender = input(\"Enter Gender: \")\n",
    "marital = input(\"Enter Martial Status: \")\n",
    "if gender == 'F':\n",
    "    print(\"You can work in urban area\")\n",
    "elif gender == 'M' and age >= 20 and age < 40:\n",
    "    print(\"You can work in any area\")\n",
    "elif gender == 'M' and age >= 40 and age <= 60:\n",
    "    print(\"You can work in urban area\")\n",
    "else:\n",
    "    print(\"Error! Invalid Input\")"
   ]
  },
  {
   "cell_type": "code",
   "execution_count": 75,
   "metadata": {},
   "outputs": [
    {
     "name": "stdout",
     "output_type": "stream",
     "text": [
      "26897540833688862868057945962414433707025862437107036453395786607\n"
     ]
    }
   ],
   "source": [
    "message = int(''.join(format(ord(x), '08b') for x in message),2)\n",
    "print(message)"
   ]
  }
 ],
 "metadata": {
  "colab": {
   "name": "If then Else &Elif Practice Task .ipynb",
   "provenance": []
  },
  "kernelspec": {
   "display_name": "Python 3 (ipykernel)",
   "language": "python",
   "name": "python3"
  },
  "language_info": {
   "codemirror_mode": {
    "name": "ipython",
    "version": 3
   },
   "file_extension": ".py",
   "mimetype": "text/x-python",
   "name": "python",
   "nbconvert_exporter": "python",
   "pygments_lexer": "ipython3",
   "version": "3.9.7"
  }
 },
 "nbformat": 4,
 "nbformat_minor": 1
}
