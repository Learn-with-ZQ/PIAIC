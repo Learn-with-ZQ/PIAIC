{
 "cells": [
  {
   "cell_type": "markdown",
   "metadata": {},
   "source": [
    "# Topic: print()"
   ]
  },
  {
   "cell_type": "markdown",
   "metadata": {},
   "source": [
    "1) Using the python print function print any string value, integer value, boolean value, float value in single print command"
   ]
  },
  {
   "cell_type": "code",
   "execution_count": null,
   "metadata": {},
   "outputs": [],
   "source": [
    "##### type your code here\n",
    "print(\"I am \", input(\"Enter your Name: \"), \". I am \", int(input(\"Enter your Age: \")), \" years old. My Heigh is \", float(input(\"Enter your Height: \")), \". I love \", bin(int(''.join(format(ord(x), '08b') for x in input(\"Enter your Field of Interest: \")),2))[2:],sep=\"\")"
   ]
  },
  {
   "cell_type": "markdown",
   "metadata": {},
   "source": [
    "2) Using the python print function print hyphon(-) separated any string value, integer value, boolean value, float value in single print command"
   ]
  },
  {
   "cell_type": "code",
   "execution_count": 160,
   "metadata": {},
   "outputs": [
    {
     "name": "stdout",
     "output_type": "stream",
     "text": [
      "Enter your Name: Zaid\n",
      "Enter your Age: 19\n",
      "Enter your Height: 5.83\n",
      "Enter your Field of Interest: Science\n",
      "-Zaid-19-5.83-1010011011000110110100101100101011011100110001101100101\n"
     ]
    }
   ],
   "source": [
    "# type your code here\n",
    "print(\"-\", input(\"Enter your Name: \"), \"-\", int(input(\"Enter your Age: \")), \"-\", float(input(\"Enter your Height: \")), \"-\", bin(int(''.join(format(ord(x), '08b') for x in input(\"Enter your Field of Interest: \")),2))[2:],sep=\"\")"
   ]
  },
  {
   "cell_type": "markdown",
   "metadata": {},
   "source": [
    "3) Using the python print function print any string value, integer value, boolean value, float value in separate print command.\n",
    "But every value must be space separated and in single line "
   ]
  },
  {
   "cell_type": "code",
   "execution_count": null,
   "metadata": {},
   "outputs": [],
   "source": [
    "# type your code here\n",
    "print(\" \", input(\"Enter your Name: \"), \" \", int(input(\"Enter your Age: \")), \" \", float(input(\"Enter your Height: \")), \" \", bin(int(''.join(format(ord(x), '08b') for x in input(\"Enter your Field of Interest: \")),2))[2:],sep=\"\")"
   ]
  },
  {
   "cell_type": "markdown",
   "metadata": {},
   "source": [
    "4) Can a python print function take no value to print???"
   ]
  },
  {
   "cell_type": "code",
   "execution_count": 161,
   "metadata": {},
   "outputs": [
    {
     "name": "stdout",
     "output_type": "stream",
     "text": [
      "\n"
     ]
    }
   ],
   "source": [
    "# type your answer here\n",
    "#Yes and if there will be no argument then the print will work as line breaker\n",
    "print()"
   ]
  },
  {
   "cell_type": "markdown",
   "metadata": {},
   "source": [
    "# TOPIC :Variables in Python Operators"
   ]
  },
  {
   "cell_type": "raw",
   "metadata": {},
   "source": [
    "5) One of my friends name is Mr. Ahmed. He is 30 years old.  He is a lawer by profession. He has done his bachelors in law in the year 2005. He is working with a reputable law firm 'The Himalya Associates' in Karachi since 2015.\n",
    "He is a handsome lawer with height of 5.10 feets and weight 70600g. His monthly income is Rs. 200k PKR.\n",
    "\n",
    "Note: Create variables from above text and also assign values from the text.  "
   ]
  },
  {
   "cell_type": "code",
   "execution_count": 10,
   "metadata": {},
   "outputs": [],
   "source": [
    "#type your code here\n",
    "name = \"Mr. Ahmed\"\n",
    "age = 30\n",
    "profession = \"Lawyer\"\n",
    "yearOfPassing = 2005\n",
    "company = \"The Himalya Associates\"\n",
    "ComapnyLocation = \"Karachi\"\n",
    "yearOfJoining = 2015\n",
    "height = [5.10, \"f\"]\n",
    "weight = [70600, \"g\"]\n",
    "salary = [200000, \"PKR\"]"
   ]
  },
  {
   "cell_type": "markdown",
   "metadata": {},
   "source": [
    "6)How many years has been to Mr. Ahmed after his bachelors degree? Create a variable that hold current year value and then subtract it from his passout year"
   ]
  },
  {
   "cell_type": "code",
   "execution_count": 6,
   "metadata": {},
   "outputs": [
    {
     "name": "stdout",
     "output_type": "stream",
     "text": [
      "17\n"
     ]
    }
   ],
   "source": [
    "#type your code here\n",
    "from datetime import date\n",
    "currentYear = date.today().year\n",
    "experience = currentYear - yearOfPassing\n",
    "print(experience)"
   ]
  },
  {
   "cell_type": "markdown",
   "metadata": {},
   "source": [
    "7) How many years has Mr. Ahmed been working with law firm 'The Himalya Associates'. Create necesary variables and print the correct number of years in working in the firm"
   ]
  },
  {
   "cell_type": "code",
   "execution_count": 9,
   "metadata": {},
   "outputs": [
    {
     "name": "stdout",
     "output_type": "stream",
     "text": [
      "7\n"
     ]
    }
   ],
   "source": [
    "#type your code here \n",
    "tenyor = currentYear - yearOfJoining\n",
    "print(tenyor)"
   ]
  },
  {
   "cell_type": "markdown",
   "metadata": {},
   "source": [
    "8)Convert the monthly income of Mr. Ahmed in dollars.  Create necesary variables and print the income in dollars."
   ]
  },
  {
   "cell_type": "code",
   "execution_count": 12,
   "metadata": {},
   "outputs": [],
   "source": [
    "#type your code here \n",
    "salary.append(salary[0] * 0.0045)\n",
    "salary.append(\"Dollar\")"
   ]
  },
  {
   "cell_type": "code",
   "execution_count": 13,
   "metadata": {},
   "outputs": [
    {
     "name": "stdout",
     "output_type": "stream",
     "text": [
      "[200000, 'PKR', 899.9999999999999, 'Dollar']\n"
     ]
    }
   ],
   "source": [
    "print(salary)"
   ]
  },
  {
   "cell_type": "markdown",
   "metadata": {},
   "source": [
    "9) Check if the income in dollars is a float or integer value. if it is float, re-write the code so that income gets converted in integer. print the income in integer type value"
   ]
  },
  {
   "cell_type": "code",
   "execution_count": 18,
   "metadata": {},
   "outputs": [
    {
     "name": "stdout",
     "output_type": "stream",
     "text": [
      "[200000, 'PKR', 900, 'Dollar']\n"
     ]
    }
   ],
   "source": [
    "#type your code here\n",
    "import math\n",
    "if type(salary[2] == 'float'):\n",
    "    salary[2] = math.ceil(salary[2])\n",
    "print(salary)"
   ]
  },
  {
   "cell_type": "raw",
   "metadata": {},
   "source": [
    "10) Print the type of Mr. Ahmed's weight. Convert the weight of Mr. Ahmed in kg so that weight must be a integer value. "
   ]
  },
  {
   "cell_type": "code",
   "execution_count": 19,
   "metadata": {},
   "outputs": [
    {
     "name": "stdout",
     "output_type": "stream",
     "text": [
      "[70600, 'g', 71, 'Kg']\n"
     ]
    }
   ],
   "source": [
    "#type your code here \n",
    "weight.append(math.ceil(weight[0]/1000))\n",
    "weight.append(\"Kg\")\n",
    "print(weight)"
   ]
  },
  {
   "cell_type": "raw",
   "metadata": {},
   "source": [
    "11) print the year of birth of Mr. Ahmed."
   ]
  },
  {
   "cell_type": "code",
   "execution_count": 21,
   "metadata": {},
   "outputs": [
    {
     "name": "stdout",
     "output_type": "stream",
     "text": [
      "1992\n"
     ]
    }
   ],
   "source": [
    "#type your code here\n",
    "print(currentYear - age)"
   ]
  },
  {
   "cell_type": "markdown",
   "metadata": {},
   "source": [
    "12) Can Rs. 100 be divided equally among 6 students? \n",
    "HINT: % operator"
   ]
  },
  {
   "cell_type": "code",
   "execution_count": 25,
   "metadata": {},
   "outputs": [
    {
     "name": "stdout",
     "output_type": "stream",
     "text": [
      "Each sutdent will get Rs. 16 while Rs. 4 will be left.\n"
     ]
    }
   ],
   "source": [
    "#type your code here \n",
    "print(f\"Each sutdent will get Rs. {int(100/6)} while Rs. {100%6} will be left.\")"
   ]
  }
 ],
 "metadata": {
  "kernelspec": {
   "display_name": "Python 3 (ipykernel)",
   "language": "python",
   "name": "python3"
  },
  "language_info": {
   "codemirror_mode": {
    "name": "ipython",
    "version": 3
   },
   "file_extension": ".py",
   "mimetype": "text/x-python",
   "name": "python",
   "nbconvert_exporter": "python",
   "pygments_lexer": "ipython3",
   "version": "3.9.7"
  }
 },
 "nbformat": 4,
 "nbformat_minor": 2
}
