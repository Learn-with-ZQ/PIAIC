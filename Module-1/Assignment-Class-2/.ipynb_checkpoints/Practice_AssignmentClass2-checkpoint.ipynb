{
 "cells": [
  {
   "cell_type": "markdown",
   "metadata": {},
   "source": [
    "# Topic: print()"
   ]
  },
  {
   "cell_type": "markdown",
   "metadata": {},
   "source": [
    "1) Using the python print function print any string value, integer value, boolean value, float value in single print command"
   ]
  },
  {
   "cell_type": "code",
   "execution_count": null,
   "metadata": {},
   "outputs": [],
   "source": [
    "##### type your code here\n",
    "print(\"I am \", input(\"Enter your Name: \"), \". I am \", int(input(\"Enter your Age: \")), \" years old. My Heigh is \", float(input(\"Enter your Height: \")), \". I love \", bin(int(''.join(format(ord(x), '08b') for x in input(\"Enter your Field of Interest: \")),2))[2:],sep=\"\")"
   ]
  },
  {
   "cell_type": "markdown",
   "metadata": {},
   "source": [
    "2) Using the python print function print hyphon(-) separated any string value, integer value, boolean value, float value in single print command"
   ]
  },
  {
   "cell_type": "code",
   "execution_count": null,
   "metadata": {},
   "outputs": [],
   "source": [
    "# type your code here\n"
   ]
  },
  {
   "cell_type": "markdown",
   "metadata": {},
   "source": [
    "3) Using the python print function print any string value, integer value, boolean value, float value in separate print command.\n",
    "But every value must be space separated and in single line "
   ]
  },
  {
   "cell_type": "code",
   "execution_count": null,
   "metadata": {},
   "outputs": [],
   "source": [
    "# type your code here\n"
   ]
  },
  {
   "cell_type": "markdown",
   "metadata": {},
   "source": [
    "4) Can a python print function take no value to print???"
   ]
  },
  {
   "cell_type": "code",
   "execution_count": null,
   "metadata": {},
   "outputs": [],
   "source": [
    "# type your answer here\n"
   ]
  },
  {
   "cell_type": "markdown",
   "metadata": {},
   "source": [
    "# TOPIC :Variables in Python Operators"
   ]
  },
  {
   "cell_type": "markdown",
   "metadata": {},
   "source": [
    "5) One of my friends name is Mr. Ahmed. He is 30 years old.  He is a lawer by profession. He has done his bachelors in law in the year 2005. He is working with a reputable law firm 'The Himalya Associates' in Karachi since 2015.\n",
    "He is a handsome lawer with height of 5.10 feets and weight 70600g. His monthly income is Rs. 200k PKR.\n",
    "\n",
    "Note: Create variables from above text and also assign values from the text.  "
   ]
  },
  {
   "cell_type": "code",
   "execution_count": null,
   "metadata": {},
   "outputs": [],
   "source": [
    "#type your code here\n"
   ]
  },
  {
   "cell_type": "markdown",
   "metadata": {},
   "source": [
    "6)How many years has been to Mr. Ahmed after his bachelors degree? Create a variable that hold current year value and then subtract it from his passout year"
   ]
  },
  {
   "cell_type": "code",
   "execution_count": null,
   "metadata": {},
   "outputs": [],
   "source": [
    "#type your code here \n"
   ]
  },
  {
   "cell_type": "markdown",
   "metadata": {},
   "source": [
    "7) How many years has Mr. Ahmed been working with law firm 'The Himalya Associates'. Create necesary variables and print the correct number of years in working in the firm"
   ]
  },
  {
   "cell_type": "code",
   "execution_count": null,
   "metadata": {},
   "outputs": [],
   "source": [
    "#type your code here \n"
   ]
  },
  {
   "cell_type": "markdown",
   "metadata": {},
   "source": [
    "8)Convert the monthly income of Mr. Ahmed in dollars.  Create necesary variables and print the income in dollars."
   ]
  },
  {
   "cell_type": "code",
   "execution_count": null,
   "metadata": {},
   "outputs": [],
   "source": [
    "#type your code here \n"
   ]
  },
  {
   "cell_type": "markdown",
   "metadata": {},
   "source": [
    "9) Check if the income in dollars is a float or integer value. if it is float, re-write the code so that income gets converted in integer. print the income in integer type value"
   ]
  },
  {
   "cell_type": "code",
   "execution_count": null,
   "metadata": {},
   "outputs": [],
   "source": [
    "#type your code here \n"
   ]
  },
  {
   "cell_type": "raw",
   "metadata": {},
   "source": [
    "10) Print the type of Mr. Ahmed's weight. Convert the weight of Mr. Ahmed in kg so that weight must be a integer value. "
   ]
  },
  {
   "cell_type": "code",
   "execution_count": null,
   "metadata": {},
   "outputs": [],
   "source": [
    "#type your code here \n"
   ]
  },
  {
   "cell_type": "raw",
   "metadata": {},
   "source": [
    "11) print the year of birth of Mr. Ahmed."
   ]
  },
  {
   "cell_type": "code",
   "execution_count": null,
   "metadata": {},
   "outputs": [],
   "source": [
    "#type your code here\n"
   ]
  },
  {
   "cell_type": "markdown",
   "metadata": {},
   "source": [
    "12) Can Rs. 100 be divided equally among 6 students? \n",
    "HINT: % operator"
   ]
  },
  {
   "cell_type": "code",
   "execution_count": 18,
   "metadata": {},
   "outputs": [
    {
     "name": "stdout",
     "output_type": "stream",
     "text": [
      "<class 'int'>\n"
     ]
    }
   ],
   "source": [
    "#type your code here \n"
   ]
  },
  {
   "cell_type": "code",
   "execution_count": 59,
   "metadata": {},
   "outputs": [
    {
     "ename": "SyntaxError",
     "evalue": "f-string: unmatched '(' (Temp/ipykernel_8360/3539606702.py, line 1)",
     "output_type": "error",
     "traceback": [
      "\u001b[1;36m  File \u001b[1;32m\"C:\\Users\\zaidq\\AppData\\Local\\Temp/ipykernel_8360/3539606702.py\"\u001b[1;36m, line \u001b[1;32m1\u001b[0m\n\u001b[1;33m    print(f\"{str(input(\"Enter your name\"))}\")\u001b[0m\n\u001b[1;37m                        ^\u001b[0m\n\u001b[1;31mSyntaxError\u001b[0m\u001b[1;31m:\u001b[0m f-string: unmatched '('\n"
     ]
    }
   ],
   "source": [
    "def hex_con(hexa):\\n\",\n",
    "    temp = []\\n\",\n",
    "    for i in range(len(hexa)):\\n\",\n",
    "        temp.append(hex(hexa[i]))\\n\",\n",
    "        temp[i] = temp[i][2:]\\n\",\n",
    "    return temp\\n\",\n",
    "def int_con(intg):\\n\",\n",
    "    temp = []\\n\",\n",
    "    for i in range(len(intg)):\\n\",\n",
    "        temp.append(int(intg[i], base))\\n\",\n",
    "    return temp\\n\",\n",
    "def bin_con(biny):\\n\",\n",
    "    temp = []\\n\",\n",
    "    for i in range(len(biny)):\\n\",\n",
    "        temp.append(bin(biny[i]))\\n\",\n",
    "        temp[i] = temp[i][2:]\\n\",\n",
    "        for j in range(len(temp[i]),8):\\n\",\n",
    "            temp[i] = \\\"0\\\"+ temp[i]\\n\",\n",
    "    return temp\\n\",\n",
    "convert = \\\"ahdb\\\"\\n\",\n",
    "nt = \\\"\\\"\\n\",\n",
    "name = \\\"Zaid\\\"\\n\",\n",
    "new = [ord(i) for i in name]\\n\",\n",
    "print(new)\\n\",\n",
    "for i in range(1,len(convert)):\\n\",\n",
    "    if convert[i] == \\\"b\\\":\\n\",\n",
    "        new = bin_con(new)\\n\",\n",
    "        base = 2\\n\",\n",
    "    elif convert[i] == \\\"h\\\":\\n\",\n",
    "        new = hex_con(new)\\n\",\n",
    "        base = 16\\n\",\n",
    "    elif convert[i] == \\\"d\\\":\\n\",\n",
    "        new = int_con(new)\\n\",\n",
    "        base = 10\\n\",\n",
    "    print(new)\""
   ]
  },
  {
   "cell_type": "code",
   "execution_count": 77,
   "metadata": {},
   "outputs": [
    {
     "name": "stdout",
     "output_type": "stream",
     "text": [
      "Enter your Field of Interest: 15\n",
      "12597\n"
     ]
    }
   ],
   "source": [
    "message = \"\"\n",
    "message = int(''.join(format(ord(x), '08b') for x in input(\"Enter your Field of Interest: \")),2)\n",
    "print(message)"
   ]
  },
  {
   "cell_type": "code",
   "execution_count": 86,
   "metadata": {},
   "outputs": [
    {
     "name": "stdout",
     "output_type": "stream",
     "text": [
      "0011000100110101\n"
     ]
    }
   ],
   "source": [
    "nt = \"\"\n",
    "temp = format(12597, '08b')\n",
    "for i in range(8 - len(temp)%8):\n",
    "    temp = \"0\" + temp\n",
    "for i in range(0, len(temp), 8)\n",
    "print(temp)"
   ]
  }
 ],
 "metadata": {
  "kernelspec": {
   "display_name": "Python 3 (ipykernel)",
   "language": "python",
   "name": "python3"
  },
  "language_info": {
   "codemirror_mode": {
    "name": "ipython",
    "version": 3
   },
   "file_extension": ".py",
   "mimetype": "text/x-python",
   "name": "python",
   "nbconvert_exporter": "python",
   "pygments_lexer": "ipython3",
   "version": "3.9.7"
  }
 },
 "nbformat": 4,
 "nbformat_minor": 2
}
