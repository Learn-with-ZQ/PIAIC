{
 "cells": [
  {
   "cell_type": "markdown",
   "id": "f6519aad",
   "metadata": {},
   "source": [
    "# User input"
   ]
  },
  {
   "cell_type": "raw",
   "id": "948191fe",
   "metadata": {},
   "source": [
    "1. Take a sentence input from user using input function. Count occurence of a particular character/word in the sentence and print the message that the character appear this many times in the sentence.\n",
    "Like if user inputs> \"My name is Sana. I am an undergraduate student. I am learning Artificial Intellegence in PIAIC\"\n",
    "Your output should be:\n",
    "    I appears 5 times in your sentence\n",
    "Hint: nahi batounga use string methods.\n",
    "Note: Sana is a boy. His full name is SanaUllah😄"
   ]
  },
  {
   "cell_type": "code",
   "execution_count": null,
   "id": "3be4475d",
   "metadata": {},
   "outputs": [],
   "source": []
  },
  {
   "cell_type": "raw",
   "id": "bf6c3672",
   "metadata": {},
   "source": [
    "2. Take a number input from user and print the square of that number. \n",
    "\n",
    "if a user inputs 10 Your output should be like:\n",
    "    The square of 10 is 100\n",
    "if a user inputs 5 Your output should be like:\n",
    "    The square of 5 is 25\n",
    "if a user inputs 2 Your output should be like:\n",
    "    The square of 2 is 4\n"
   ]
  },
  {
   "cell_type": "code",
   "execution_count": null,
   "id": "e4c4b468",
   "metadata": {},
   "outputs": [],
   "source": [
    "given = int(input(\"Enter Number: \"))\n",
    "print(f\"The square of {given} is {given**2}\")"
   ]
  },
  {
   "cell_type": "raw",
   "id": "0da0f529",
   "metadata": {},
   "source": [
    "3. Take two inputs from user using two input functions add these two numbers and print the result.\n",
    "For example if a user inputs 10 in first input, 20 in second input then your output mustbe like:\n",
    "    The sum of 10 and 20 is 30\n",
    "    \n",
    "For example if a user inputs 12 in first input, 30 in second input then your output mustbe like:\n",
    "    The sum of 12 and 30 is 42\n",
    "\n",
    "For example if a user inputs 100 in first input, 200 in second input then your out put mustbe like:\n",
    "    The sum of 100 and 200 is 300"
   ]
  },
  {
   "cell_type": "code",
   "execution_count": 1,
   "id": "75e6efda",
   "metadata": {},
   "outputs": [
    {
     "name": "stdout",
     "output_type": "stream",
     "text": [
      "Enter First Number: 1\n",
      "Enter Second Number: 2\n",
      "The sum of 1 and 2 is 3\n"
     ]
    }
   ],
   "source": [
    "a = int(input(\"Enter First Number: \"))\n",
    "b = int(input(\"Enter Second Number: \"))\n",
    "print(f\"The sum of {a} and {b} is {a+b}\")"
   ]
  },
  {
   "cell_type": "raw",
   "id": "f957eb50",
   "metadata": {},
   "source": [
    "4. Format a string to display a card like string:\n",
    "    \n",
    "            Presidential Initiative for AI & Computing\n",
    "                          ID CARD\n",
    "            Student Name   : Asad Ali\n",
    "            Father Name    : Amjad Ali\n",
    "            Date of Birth  : 01-01-2000\n",
    "            Course Enrolled: Artificial Intelligence\n",
    "            Batch          : 2022\n",
    "            Day            : Saturday \n",
    "            Centre         : Sir Syed University of Engg and Technology\n",
    "                \n",
    "Note: all the field values must be taken as user inputs and stored in variable"
   ]
  },
  {
   "cell_type": "code",
   "execution_count": 13,
   "id": "0f2d4d2d",
   "metadata": {},
   "outputs": [
    {
     "name": "stdout",
     "output_type": "stream",
     "text": [
      "Enter Student Name       : 1\n",
      "Enter Father Name        : 2\n",
      "Enter Date(Formate:D/M/Y): 3\n",
      "Enter Course             : 4\n",
      "Enter Batch              : 5\n",
      "Enter Day                : 6\n",
      "Enter Center             : 7\n",
      "            Presidential Initiative for AI & Computing\n",
      "                          ID CARD\n",
      "            Student Name   : 1\n",
      "            Father Name    : 2\n",
      "            Date of Birth  : 3\n",
      "            Course Enrolled: 4\n",
      "            Batch          : 5\n",
      "            Day            : 6\n",
      "            Centre         : 7\n"
     ]
    }
   ],
   "source": [
    "sname = input(\"Enter Student Name       : \")\n",
    "\n",
    "fname = input(\"Enter Father Name        : \")\n",
    "date = input(\"Enter Date(Formate:D/M/Y): \")\n",
    "course = input(\"Enter Course             : \")\n",
    "batch = input(\"Enter Batch              : \")\n",
    "day = input(\"Enter Day                : \")\n",
    "center = input(\"Enter Center             : \")\n",
    "print(f\"\"\"            Presidential Initiative for AI & Computing\n",
    "                          ID CARD\n",
    "            Student Name   : {sname}\n",
    "            Father Name    : {fname}\n",
    "            Date of Birth  : {date}\n",
    "            Course Enrolled: {course}\n",
    "            Batch          : {batch}\n",
    "            Day            : {day}\n",
    "            Centre         : { center}\"\"\")"
   ]
  }
 ],
 "metadata": {
  "kernelspec": {
   "display_name": "Python 3 (ipykernel)",
   "language": "python",
   "name": "python3"
  },
  "language_info": {
   "codemirror_mode": {
    "name": "ipython",
    "version": 3
   },
   "file_extension": ".py",
   "mimetype": "text/x-python",
   "name": "python",
   "nbconvert_exporter": "python",
   "pygments_lexer": "ipython3",
   "version": "3.9.7"
  }
 },
 "nbformat": 4,
 "nbformat_minor": 5
}
