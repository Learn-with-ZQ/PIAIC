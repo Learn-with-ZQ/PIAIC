{
 "cells": [
  {
   "cell_type": "markdown",
   "id": "ac6f64a4",
   "metadata": {},
   "source": [
    "##### Task1: Mean \n",
    "Breifly decribe the term <b>Mean</b> (<i>dont write formula that sum of all numbers divide by total numbers) </i>\n",
    "Try to present some statistical view of mean(Average).\n",
    "You need to find the mean Average of the array(list). Not built-in function is allowed to use. \n",
    "\n",
    "Example : if user supplies a list [2,3,4,5,5,4,6,7,8,9]\n",
    "\n",
    "The output should be:\n",
    "\n",
    "The mean of the array [2,3,4,5,5,4,6,7,8,9] is 5.3"
   ]
  },
  {
   "cell_type": "code",
   "execution_count": 2,
   "id": "93002a67",
   "metadata": {},
   "outputs": [
    {
     "ename": "SyntaxError",
     "evalue": "invalid syntax (Temp/ipykernel_176624/3603535682.py, line 2)",
     "output_type": "error",
     "traceback": [
      "\u001b[1;36m  File \u001b[1;32m\"C:\\Users\\zaidq\\AppData\\Local\\Temp/ipykernel_176624/3603535682.py\"\u001b[1;36m, line \u001b[1;32m2\u001b[0m\n\u001b[1;33m    return array[j] if(i == j) else return (result + array[i] + recursion(array, result, i+1, j))\u001b[0m\n\u001b[1;37m                                    ^\u001b[0m\n\u001b[1;31mSyntaxError\u001b[0m\u001b[1;31m:\u001b[0m invalid syntax\n"
     ]
    }
   ],
   "source": [
    "def recursion(array, result, i, j):\n",
    "        return array[j] if(i == j) else return (result + array[i] + recursion(array, result, i+1, j))\n",
    "array = [2,3,4,5,5,4,6,7,8,9]\n",
    "result = recursion(array, 0, 0, len(array) - 1)\n",
    "print(result/len(array))"
   ]
  },
  {
   "cell_type": "markdown",
   "id": "52bedbb9",
   "metadata": {},
   "source": [
    "#### Task2: Median\n",
    "    \n",
    "Breifly decribe the term <b>Median</b> (<i>dont write mathematical formula</i>)\n",
    "\n",
    "You need to find the Median of the array(list). Not built-in function is allowed to use.\n",
    "\n",
    "Example : if user supplies a list [2,3,4,5,5,4,6,7,8,9]\n",
    "\n",
    "The output should be:\n",
    "\n",
    "The median of the array [2,3,4,5,5,4,6,7,8,9] is 5.\n",
    "    "
   ]
  },
  {
   "cell_type": "code",
   "execution_count": 102,
   "id": "0f10f151",
   "metadata": {},
   "outputs": [
    {
     "name": "stdout",
     "output_type": "stream",
     "text": [
      "[2, 3, 4, 5, 5, 4, 6, 7, 8, 9]\n",
      "[2, 3, 4, 5, 5, 4, 6, 7, 8, 9]\n",
      "[2, 3, 4, 5, 5, 4, 6, 7, 8, 9]\n",
      "[2, 3, 4, 5, 5, 4, 6, 7, 8, 9]\n",
      "[2, 3, 4, 5, 5, 4, 6, 7, 8, 9]\n",
      "[2, 3, 4, 5, 5, 4, 6, 7, 8, 9]\n",
      "[2, 3, 4, 5, 5, 4, 6, 7, 8, 9]\n",
      "[2, 3, 4, 5, 5, 4, 6, 7, 8, 9]\n",
      "[2, 3, 4, 5, 5, 4, 6, 7, 8, 9]\n",
      "[2, 3, 4, 5, 5, 4, 6, 7, 8, 9]\n",
      "[2, 3, 4, 5, 5, 4, 6, 7, 8, 9]\n",
      "[2, 3, 4, 5, 5, 4, 6, 7, 8, 9]\n",
      "[2, 3, 4, 5, 5, 4, 6, 7, 8, 9]\n",
      "[2, 3, 4, 5, 5, 4, 6, 7, 8, 9]\n",
      "[2, 3, 4, 5, 5, 4, 6, 7, 8, 9]\n",
      "[2, 3, 4, 5, 5, 4, 6, 7, 8, 9]\n",
      "[2, 3, 4, 5, 5, 4, 6, 7, 8, 9]\n",
      "[2, 3, 4, 5, 5, 4, 6, 7, 8, 9]\n",
      "[2, 3, 4, 5, 5, 4, 6, 7, 8, 9]\n",
      "[2, 3, 4, 5, 5, 4, 6, 7, 8, 9]\n",
      "[2, 3, 4, 5, 5, 4, 6, 7, 8, 9]\n",
      "[2, 3, 4, 5, 5, 4, 6, 7, 8, 9]\n",
      "[2, 3, 4, 5, 5, 4, 6, 7, 8, 9]\n",
      "[2, 3, 4, 5, 5, 4, 6, 7, 8, 9]\n",
      "[2, 3, 4, 5, 5, 4, 6, 7, 8, 9]\n",
      "[2, 3, 4, 5, 5, 4, 6, 7, 8, 9]\n",
      "[2, 3, 4, 5, 5, 4, 6, 7, 8, 9]\n",
      "[2, 3, 4, 5, 5, 4, 6, 7, 8, 9]\n",
      "[2, 3, 4, 5, 5, 4, 6, 7, 8, 9]\n",
      "[2, 3, 4, 5, 5, 4, 6, 7, 8, 9]\n",
      "[2, 3, 4, 5, 5, 4, 6, 7, 8, 9]\n",
      "[2, 3, 4, 5, 5, 4, 6, 7, 8, 9]\n",
      "[2, 3, 4, 5, 5, 4, 6, 7, 8, 9]\n",
      "[2, 3, 4, 5, 5, 4, 6, 7, 8, 9]\n",
      "[2, 3, 4, 5, 5, 4, 6, 7, 8, 9]\n",
      "[2, 3, 4, 4, 5, 5, 6, 7, 8, 9]\n",
      "[2, 3, 4, 4, 5, 5, 6, 7, 8, 9]\n",
      "[2, 3, 4, 4, 5, 5, 6, 7, 8, 9]\n",
      "[2, 3, 4, 4, 5, 5, 6, 7, 8, 9]\n",
      "[2, 3, 4, 4, 5, 5, 6, 7, 8, 9]\n",
      "[2, 3, 4, 4, 5, 5, 6, 7, 8, 9]\n",
      "5\n"
     ]
    }
   ],
   "source": [
    "def partition(l, r, nums):\n",
    "    pivot, ptr = nums[r], l\n",
    "    for i in range(l, r):\n",
    "        if nums[i] <= pivot:\n",
    "            nums[i], nums[ptr] = nums[ptr], nums[i]\n",
    "            ptr += 1\n",
    "    nums[ptr], nums[r] = nums[r], nums[ptr]\n",
    "    return ptr\n",
    "def quicksort(l, r, nums):\n",
    "    if len(nums) == 1:\n",
    "        return nums\n",
    "    if l < r:\n",
    "        pi = partition(l, r, nums)\n",
    "        quicksort(l, pi-1, nums)\n",
    "        quicksort(pi+1, r, nums)\n",
    "    return nums\n",
    "array = [2,3,4,5,5,4,6,7,8,9]\n",
    "print(quicksort(0, len(array)-1, array))\n",
    "print(array)\n",
    "result = 0\n",
    "if(len(array)%2 == 1):\n",
    "    result += array[int((len(array) + 1)/2)]\n",
    "else:\n",
    "    result = int((array[int((len(array))/2)] + array[int((len(array) + 1)/2)])/2)\n",
    "print(result)"
   ]
  },
  {
   "cell_type": "markdown",
   "id": "41484d7c",
   "metadata": {},
   "source": [
    "#### Task3: Mode \n",
    "Breifly decribe the term <b>Mode</b> (<i>dont write mathematical formula</i>)\n",
    "\n",
    "You need to find the Mode of the array(list). Not built-in function is allowed to use.\n",
    "\n",
    "Example : if user supplies a list [2,3,4,5,3,4,6,7,3,9]\n",
    "\n",
    "The output should be:\n",
    "\n",
    "The median of the array [2,3,4,5,3,4,6,7,8,3] is 3."
   ]
  },
  {
   "cell_type": "code",
   "execution_count": 117,
   "id": "e34c18f9",
   "metadata": {},
   "outputs": [
    {
     "name": "stdout",
     "output_type": "stream",
     "text": [
      "[3]\n",
      "[2, 3, 4, 5, 3, 4, 6, 7, 8, 3]\n"
     ]
    }
   ],
   "source": [
    "# Your code goes here\n",
    "def MergeSort(array):\n",
    "    if len(array) > 1:\n",
    "        mid = int(len(array)/2)\n",
    "        L = array[:mid]\n",
    "        R = array[mid:]\n",
    "        MergeSort(L)\n",
    "        MergeSort(R)\n",
    "        i = j = k = 0\n",
    "        while i < len(L) and j < len(R):\n",
    "            if L[i] < R[j]:\n",
    "                array[k] = L[i]\n",
    "                i += 1\n",
    "            else:\n",
    "                array[k] = R[j]\n",
    "                j += 1\n",
    "            k += 1\n",
    "        while i < len(L):\n",
    "            array[k] = L[i]\n",
    "            i += 1\n",
    "            k += 1\n",
    "        while j < len(R):\n",
    "            array[k] = R[j]\n",
    "            j += 1\n",
    "            k += 1\n",
    "    return array\n",
    "def find_mode(num_list):\n",
    "    unique_num_list = list(set(num_list))\n",
    "    dictionary = {}\n",
    "    for i in unique_num_list:\n",
    "        get_count = num_list.count(i)\n",
    "        dictionary[i]= get_count\n",
    "    max_repeat = 0 \n",
    "    for i in unique_num_list:\n",
    "        get_value = dictionary[i]\n",
    "        if get_value > max_repeat:\n",
    "            max_repeat = get_value\n",
    "    result = []\n",
    "    for i in unique_num_list:\n",
    "        if dictionary[i] == max_repeat:\n",
    "            result.append(i)\n",
    "    return result\n",
    "array = [2,3,4,5,3,4,6,7,8,3]\n",
    "new = [i for i in array]\n",
    "MergeSort(new)\n",
    "result = find_mode(new)\n",
    "print(result)\n",
    "print(array)"
   ]
  },
  {
   "cell_type": "markdown",
   "id": "ad6fee2a",
   "metadata": {},
   "source": [
    "#### Task4: Sorting an array in ascending order\n",
    "If user supplies an array(list) like arr = [5, 2, 8, 7, 1]. \n",
    "\n",
    "\n",
    "The output should be like:\n",
    "\n",
    "Elements of original array: \n",
    "5 2 8 7 1 \n",
    "\n",
    "Elements of array sorted in ascending order: \n",
    "1 2 5 7 8 \n",
    "\n",
    "Note: We need to write our own sorting algorithm using sort function of list is not acceptable."
   ]
  },
  {
   "cell_type": "code",
   "execution_count": 104,
   "id": "c857c8ba",
   "metadata": {},
   "outputs": [
    {
     "name": "stdout",
     "output_type": "stream",
     "text": [
      "[1, 2, 5, 7, 8]\n"
     ]
    }
   ],
   "source": [
    "#Your code goes here \n",
    "def partition(l, r, nums):\n",
    "    pivot, ptr = nums[r], l\n",
    "    for i in range(l, r):\n",
    "        if nums[i] <= pivot:\n",
    "            nums[i], nums[ptr] = nums[ptr], nums[i]\n",
    "            ptr += 1\n",
    "    nums[ptr], nums[r] = nums[r], nums[ptr]\n",
    "    return ptr\n",
    "def quicksort(l, r, nums):\n",
    "    if len(nums) == 1:\n",
    "        return nums\n",
    "    if l < r:\n",
    "        pi = partition(l, r, nums)\n",
    "        quicksort(l, pi-1, nums)\n",
    "        quicksort(pi+1, r, nums)\n",
    "    return nums\n",
    "array = [5, 2, 8, 7, 1]\n",
    "print(quicksort(0, len(array)-1, array))"
   ]
  },
  {
   "cell_type": "markdown",
   "id": "b3134432",
   "metadata": {},
   "source": [
    "#### Task5: Sorting an array in descending order\n",
    "\n",
    "If user supplies an array(list) like arr = [5, 2, 8, 7, 1]. \n",
    "\n",
    "\n",
    "The output should be like:\n",
    "\n",
    "Elements of original array: \n",
    "5 2 8 7 1 \n",
    "\n",
    "Elements of array sorted in ascending order: \n",
    "8 7 5 2 1 \n",
    "\n",
    "Note: We need to write our own sorting algorithm. Using sort function of list is not acceptable.\n"
   ]
  },
  {
   "cell_type": "code",
   "execution_count": 30,
   "id": "70452f62",
   "metadata": {},
   "outputs": [
    {
     "name": "stdout",
     "output_type": "stream",
     "text": [
      "[9, 8, 7, 6, 5, 5, 4, 4, 3, 2]\n"
     ]
    }
   ],
   "source": [
    "class Sorting:\n",
    "    def MergeSort(array):\n",
    "        if len(array) > 1:\n",
    "            mid = int(len(array)/2)\n",
    "            L = array[:mid]\n",
    "            R = array[mid:]\n",
    "            Sorting.MergeSort(L)\n",
    "            Sorting.MergeSort(R)\n",
    "            i = j = k = 0\n",
    "            while i < len(L) and j < len(R):\n",
    "                if L[i] > R[j]:\n",
    "                    array[k] = L[i]\n",
    "                    i += 1\n",
    "                else:\n",
    "                    array[k] = R[j]\n",
    "                    j += 1\n",
    "                k += 1\n",
    "            while i < len(L):\n",
    "                array[k] = L[i]\n",
    "                i += 1\n",
    "                k += 1\n",
    "            while j < len(R):\n",
    "                array[k] = R[j]\n",
    "                j += 1\n",
    "                k += 1\n",
    "        return array\n",
    "array = Sorting.MergeSort(array)\n",
    "print(array)"
   ]
  },
  {
   "cell_type": "markdown",
   "id": "fe5691a5",
   "metadata": {},
   "source": [
    "#### Task6: Finding the max of the inputted array \n",
    "\n",
    "If user supplies an array(list) like arr = [5, 2, 8, 7, 1]. \n",
    "\n",
    "\n",
    "The output should be like:\n",
    "\n",
    "Max value in the array is 8\n",
    "\n",
    "Note: We need to write our own max algorithm. use of python max function is not acceptable. "
   ]
  },
  {
   "cell_type": "code",
   "execution_count": 32,
   "id": "89ab79e3",
   "metadata": {},
   "outputs": [
    {
     "name": "stdout",
     "output_type": "stream",
     "text": [
      "8\n"
     ]
    }
   ],
   "source": [
    "array = [5, 2, 8, 7, 1]\n",
    "maximum = 0\n",
    "for i in range(len(array)):\n",
    "    if maximum < array[i]:\n",
    "        maximum = array[i]\n",
    "print(maximum)"
   ]
  },
  {
   "cell_type": "markdown",
   "id": "04c3bb05",
   "metadata": {},
   "source": [
    "#### Task7: Finding the min of the inputted array\n",
    "If user supplies an array(list) like arr = [5, 2, 8, 7, 1].\n",
    "\n",
    "The output should be like:\n",
    "\n",
    "Min value in the array is 1\n",
    "\n",
    "Note: We need to write our own min algorithm. use of python min function is not acceptable."
   ]
  },
  {
   "cell_type": "code",
   "execution_count": 34,
   "id": "36abc9e4",
   "metadata": {},
   "outputs": [
    {
     "name": "stdout",
     "output_type": "stream",
     "text": [
      "1\n"
     ]
    }
   ],
   "source": [
    "#Your code goes here \n",
    "array = [5, 2, 8, 7, 1]\n",
    "minimum = array[0]\n",
    "for i in range(len(array)):\n",
    "    if minimum > array[i]:\n",
    "        minimum = array[i]\n",
    "print(minimum)"
   ]
  }
 ],
 "metadata": {
  "kernelspec": {
   "display_name": "Python 3 (ipykernel)",
   "language": "python",
   "name": "python3"
  },
  "language_info": {
   "codemirror_mode": {
    "name": "ipython",
    "version": 3
   },
   "file_extension": ".py",
   "mimetype": "text/x-python",
   "name": "python",
   "nbconvert_exporter": "python",
   "pygments_lexer": "ipython3",
   "version": "3.9.7"
  }
 },
 "nbformat": 4,
 "nbformat_minor": 5
}
